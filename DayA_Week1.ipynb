{
 "cells": [
  {
   "cell_type": "code",
   "execution_count": null,
   "id": "9963df96-6336-4fd6-bbc6-90e904b4de28",
   "metadata": {},
   "outputs": [],
   "source": [
    "# ===========================================\n",
    "# ML Theory Notebook - Day A\n",
    "# Week 1 (11th Sept 2025)\n",
    "# Topic: Vectors, Dot Product, Matrix Multiplication\n",
    "# ===========================================\n",
    "\n",
    "# --- Section 1: Definitions ---\n",
    "# Definitions:\n",
    "# - Vector - a quantity with multiple direction components\n",
    "# - Dot product - operation that takes two same-dimension vectors and sums of the multiples of the corresponding components, resulting in a scalar quantity\n",
    "# - Matrix multiplication - a process of multiplying two matrices. For example, A x B = AB, but B x A = BA and it is not the same as AB, where A,B are matrices\n",
    "# - Associativity - a term used in mathematics to describe that grouping does not change the result i.e. A(BC) = (AB)C\n",
    "# - Distributivity - a term in mathematics that describes that a factor multiplied by the sum of two terms is equivalent of this factor multiplied by each term individually"
   ]
  },
  {
   "cell_type": "code",
   "execution_count": 8,
   "id": "396ff4f1-047c-429d-bcc6-7c9ca927f9e0",
   "metadata": {},
   "outputs": [],
   "source": [
    "import numpy as np"
   ]
  },
  {
   "cell_type": "code",
   "execution_count": null,
   "id": "880db385-962d-41c1-8a24-04f5212ac399",
   "metadata": {},
   "outputs": [],
   "source": [
    "### --- Section 2: Quick Calc ---"
   ]
  },
  {
   "cell_type": "code",
   "execution_count": 5,
   "id": "7c848643-2483-4e0b-9bbd-f3c9302ea124",
   "metadata": {},
   "outputs": [
    {
     "name": "stdout",
     "output_type": "stream",
     "text": [
      "11\n"
     ]
    }
   ],
   "source": [
    "# Example 1: Dot product\n",
    "v1 = np.array([1,2])\n",
    "v2 = np.array([3,4])\n",
    "print(np.dot(v1,v2))"
   ]
  },
  {
   "cell_type": "code",
   "execution_count": 15,
   "id": "de7eb76a-109e-4961-a043-d19df2264c8f",
   "metadata": {},
   "outputs": [
    {
     "name": "stdout",
     "output_type": "stream",
     "text": [
      "AB = \n",
      " [[ 5  4]\n",
      " [13 10]]\n"
     ]
    }
   ],
   "source": [
    "# Example 2: Matrix multiplication\n",
    "A = np.array( [[1, 2],\n",
    "              [3, 4]] )\n",
    "B = np.array( [[3, 2],\n",
    "              [1, 1]] )\n",
    "print(\"AB = \\n\",np.dot(A,B))"
   ]
  },
  {
   "cell_type": "code",
   "execution_count": 16,
   "id": "8da65692-0e75-45cb-8870-c1924734f48e",
   "metadata": {},
   "outputs": [
    {
     "name": "stdout",
     "output_type": "stream",
     "text": [
      "AB = \n",
      " [[ 5  4]\n",
      " [13 10]]\n",
      "BA = \n",
      " [[ 9 14]\n",
      " [ 4  6]]\n"
     ]
    }
   ],
   "source": [
    "#Example 3: Show AB ≠ BA\n",
    "AB = np.dot(A,B)\n",
    "BA = np.dot(B,A)\n",
    "print(\"AB = \\n\",AB)\n",
    "print(\"BA = \\n\",BA)"
   ]
  },
  {
   "cell_type": "code",
   "execution_count": null,
   "id": "f78ff8a7-ccbe-449e-b4fc-ba26363308e7",
   "metadata": {},
   "outputs": [],
   "source": [
    "### --- Section 3: Derivation Exercise ---"
   ]
  },
  {
   "cell_type": "code",
   "execution_count": 19,
   "id": "dad8c024-3300-4901-a501-2b8661f56add",
   "metadata": {},
   "outputs": [
    {
     "name": "stdout",
     "output_type": "stream",
     "text": [
      "[[12 12]\n",
      " [32 28]]\n",
      "[[12 12]\n",
      " [32 28]]\n",
      "True\n"
     ]
    }
   ],
   "source": [
    "# Prove distributive law: A(B + C) = AB + AC\n",
    "#Keeping A and B the same throughout\n",
    "C = np.array( [[5,2],\n",
    "               [1,3]] )\n",
    "s1 = np.dot(A, B+C)\n",
    "s2 = np.dot(A, B) + np.dot(A, C)\n",
    "print(s1)\n",
    "print(s2)\n",
    "print(np.allclose(s1,s2))\n",
    "#s1 == s2"
   ]
  },
  {
   "cell_type": "code",
   "execution_count": null,
   "id": "aa3cc785-8a59-42c9-a870-6c40c6759a31",
   "metadata": {},
   "outputs": [],
   "source": [
    "### --- Section 4: Reflections ---"
   ]
  },
  {
   "cell_type": "code",
   "execution_count": null,
   "id": "13d10f98-1f87-44a6-a656-de5b34c9cdea",
   "metadata": {},
   "outputs": [],
   "source": [
    "# - 5 bullet points: what you learned\n",
    "#1. A product of matrix with vector is linear combination of vector's features\n",
    "#2. Elimination algorithm allows to find n roots of the n-variable simultaneous equations\n",
    "#3. The problem of combinations method is when all the vectors lie in the same plane\n",
    "#4. Any equation can be writtes as Ax = b, where A is matrix of coefficients, x is vector of features, b is vector of results\n",
    "#5. If any column of linear combination in n-dimensional space happens to be the same one as any other column in the same system, then it will fill a (n-1)th dimensional \"hyperplain\" in n-dimensional space\n",
    "# - 2 confusing points\n",
    "#1. How do you know when to apply a row exchange in case you spot a failure solving the simultaneous equations with elimination method?\n",
    "#2. Suppose there are perpendicular vectors in a linear combination. Would this in any way affect the calculation, or does it only relate to parallel vectors?"
   ]
  }
 ],
 "metadata": {
  "kernelspec": {
   "display_name": "Python [conda env:base] *",
   "language": "python",
   "name": "conda-base-py"
  },
  "language_info": {
   "codemirror_mode": {
    "name": "ipython",
    "version": 3
   },
   "file_extension": ".py",
   "mimetype": "text/x-python",
   "name": "python",
   "nbconvert_exporter": "python",
   "pygments_lexer": "ipython3",
   "version": "3.13.5"
  }
 },
 "nbformat": 4,
 "nbformat_minor": 5
}
