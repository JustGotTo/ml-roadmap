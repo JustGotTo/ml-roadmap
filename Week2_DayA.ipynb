{
 "cells": [
  {
   "cell_type": "code",
   "execution_count": null,
   "id": "19701738-1756-43c4-ab08-249c3a4ff00a",
   "metadata": {},
   "outputs": [],
   "source": [
    "#===================================================\n",
    "#---------------Theory, Day A, Week 2---------------\n",
    "#---------------Monday, 15th September--------------\n",
    "#Topic - Matrix Inverses & Linear independence------\n",
    "#==================================================="
   ]
  },
  {
   "cell_type": "code",
   "execution_count": null,
   "id": "380145e0-2cdc-421f-889e-10c9e9334445",
   "metadata": {},
   "outputs": [],
   "source": [
    "#Structure:\n",
    "\n",
    "##1. Core Task\n",
    "##1.1 Warm-Up\n",
    "##1.2 Main Derivations\n",
    "##1.3 Application\n",
    "##1.4 Wrap-up\n",
    "\n",
    "##2. Stretch exercise"
   ]
  },
  {
   "cell_type": "code",
   "execution_count": 11,
   "id": "83c4dd80-1f07-4865-aba2-c34b211f89ef",
   "metadata": {},
   "outputs": [],
   "source": [
    "import numpy as np"
   ]
  },
  {
   "cell_type": "code",
   "execution_count": 12,
   "id": "58419758-97e7-4b04-ac6a-5aaebba6caee",
   "metadata": {},
   "outputs": [],
   "source": [
    "# Core Task 1 - Warm-up\n",
    "#---Calculate determinant of matrix A = [[2,1],[7,4]], Is it invertible?\n",
    "A = np.array([[2,1],[7,4]])\n",
    "#Solution: Determinant:\n",
    "#det = ad-bc = 2*4 - 7*1 = 8 - 7 = 1\n",
    "#Since matrix determinant is non-zero, matrix is non-singular, and therefore is invertible"
   ]
  },
  {
   "cell_type": "code",
   "execution_count": 13,
   "id": "34d424d6-cce8-4a58-872f-4f3966373e66",
   "metadata": {},
   "outputs": [
    {
     "name": "stdout",
     "output_type": "stream",
     "text": [
      "0.0\n",
      "The matrix is singular\n"
     ]
    }
   ],
   "source": [
    "# Core Task 2 - Main Derivations\n",
    "#---Derive: \n",
    "#1. Matrix is only invertible if it's determinant does not equal zero\n",
    "#2. A set of vectors is linearly independent if rank(A) of some matrix A with dimensions m*n is n\n",
    "\n",
    "#1. Suppose there is matrix B = [[a,b], [c,d]], whose determinant will equal ad - bc. \n",
    "#if ad-bc = 0, then B^-1 = (1/(ad-bc))*[[d,-b],[-c,a]] = (1/0)*[[d,-b],[-c,a]]\n",
    "#Since we would divide by zero, the inverse of B does not exist\n",
    "\n",
    "B = np.array([[1,2],[2,4]])\n",
    "print(np.linalg.det(B))\n",
    "try:\n",
    "    print(np.linalg.inv(B))\n",
    "except:\n",
    "    print(\"The matrix is singular\")"
   ]
  },
  {
   "cell_type": "code",
   "execution_count": 14,
   "id": "546d1d6b-b7a4-4331-a95a-924f9d510e6b",
   "metadata": {},
   "outputs": [
    {
     "name": "stdout",
     "output_type": "stream",
     "text": [
      "2\n"
     ]
    }
   ],
   "source": [
    "#2. A rank of a matrix is the number of linearly independent columns within this matrix, which is also equal to the number of \n",
    "#linearly independent rows. \n",
    "#Suppose that each row of the matrix is expressed as a vector of identical length, so A = [v1,v2,v3,...,vn]\n",
    "#This way each vector represents a column of matrix A. If rank(A) = n, then each of the vectors v1 to vn is linearly independent, \n",
    "#which is what was asked to be proven.\n",
    "C = np.array([[1,2,3],[2,4,6],[7,8,1]])\n",
    "print(np.linalg.matrix_rank(C))\n",
    "#prints 2 because v2 is 2*v1 in this case"
   ]
  },
  {
   "cell_type": "code",
   "execution_count": 15,
   "id": "21d8c85b-8e80-43c4-aac6-16fb70c3b47c",
   "metadata": {},
   "outputs": [
    {
     "name": "stdout",
     "output_type": "stream",
     "text": [
      "[ 31. -24.   9.]\n"
     ]
    }
   ],
   "source": [
    "# Core Task 3 - Applicastion\n",
    "# Show that solving 𝐴𝑥=𝑏 has:\n",
    "#1. Unique solution if A is invertible.\n",
    "#2. Infinite or no solutions if A is singular.\n",
    "\n",
    "#Suppose A = [[2,5,7],[4,6,1],[3,5,4]], b = [5,7,9]\n",
    "#Matrix equation can be solved using an inverse of A:\n",
    "# Ax = b -> (A^-1)*Ax = (A^-1)*b -> Ix = (A^-1)b, \n",
    "#So if A has an inverse, an equation has a unique solution.\n",
    "\n",
    "#Example:\n",
    "A = np.array([[2,5,7],[4,6,3],[3,5,4]])\n",
    "#3 unknowns\n",
    "b = np.array([5,7,9])\n",
    "if np.linalg.det(A) != 0:\n",
    "    Roots = np.linalg.inv(A).dot(b)\n",
    "    print(Roots)\n",
    "#3 unique real roots since matrix has an inverse"
   ]
  },
  {
   "cell_type": "code",
   "execution_count": 16,
   "id": "50902029-1e6d-4607-b213-ea960ed1d217",
   "metadata": {},
   "outputs": [],
   "source": [
    "# Core Task 4 - Wrap-Up\n",
    "#===5 things I learned:===\n",
    "#---1. A rank of a matrix shows how many linearly independent vectors are present within a matrix.\n",
    "#---2. If all vectors within matrix are linearly independent, then matrix is invertible\n",
    "#---3. Why is matrix inversible with non-zero determinant.\n",
    "#---4. Linear independence is shown when two or more vectors cannot be expressed as a scalar multiple of one another.\n",
    "#---5. An inverse of a matrix is a transformation on the original matrix that brings it to the form of identity matrix."
   ]
  },
  {
   "cell_type": "code",
   "execution_count": 17,
   "id": "54ed6f0b-09a4-4e27-8cf6-6081c8188c61",
   "metadata": {},
   "outputs": [],
   "source": [
    "#===2 things I do not yet undersand:===\n",
    "#---1. What is a quick way of checking the rank of a large matrix?\n",
    "\n",
    "#---2. Would inverse of a matrix be suitable to use in neural networks, or would it mostly be\n",
    "#used to find coefficients in logistic regression?"
   ]
  },
  {
   "cell_type": "code",
   "execution_count": 18,
   "id": "ce6789a7-c11a-4f06-a6b5-bb6af5899f70",
   "metadata": {},
   "outputs": [],
   "source": [
    "# Stretch task1\n",
    "#====Prove that if Ax=0 has only the trivial solution (x=0), then A must be invertible.\n",
    "#Suppose that Ax = 0 has exactly one, trivial solution. This would mean that Ax = 0 has only one root, when x = 0. \n",
    "#Interpreting it geometrically would mean that 3 planes intersect at one point - at x=0. This is only possible if the matrix is\n",
    "#Invertible, because it requires all row/column vectors within this matrix to be linearly independent. Therefore the statement given\n",
    "#holds true."
   ]
  },
  {
   "cell_type": "code",
   "execution_count": 21,
   "id": "d7cb0a1a-34fe-435d-a02e-339951634ad9",
   "metadata": {},
   "outputs": [
    {
     "name": "stdout",
     "output_type": "stream",
     "text": [
      "True\n",
      "False\n"
     ]
    }
   ],
   "source": [
    "# Stretch task2\n",
    "# Write a function is_independent(vectors) that checks if a list of vectors\n",
    "#is linearly independent using np.linalg.matrix_rank\n",
    "def is_independent(vectors):\n",
    "    matrix = np.array(vectors)\n",
    "    return True if np.linalg.matrix_rank(matrix) == matrix.shape[1] else False\n",
    "\n",
    "A = np.array([1,0]) \n",
    "B = np.array([0,1]) \n",
    "print(is_independent([A, B]))\n",
    "X = np.array([1,2])\n",
    "Y = np.array([2,4])\n",
    "print(is_independent([X, Y]))"
   ]
  }
 ],
 "metadata": {
  "kernelspec": {
   "display_name": "Python [conda env:base] *",
   "language": "python",
   "name": "conda-base-py"
  },
  "language_info": {
   "codemirror_mode": {
    "name": "ipython",
    "version": 3
   },
   "file_extension": ".py",
   "mimetype": "text/x-python",
   "name": "python",
   "nbconvert_exporter": "python",
   "pygments_lexer": "ipython3",
   "version": "3.13.5"
  }
 },
 "nbformat": 4,
 "nbformat_minor": 5
}
